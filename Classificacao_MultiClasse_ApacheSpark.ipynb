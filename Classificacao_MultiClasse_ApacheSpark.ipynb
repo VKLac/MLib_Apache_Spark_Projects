{
 "cells": [
  {
   "cell_type": "code",
   "execution_count": 1,
   "id": "6d501b59",
   "metadata": {},
   "outputs": [],
   "source": [
    "import findspark\n",
    "findspark.init()"
   ]
  },
  {
   "cell_type": "code",
   "execution_count": 2,
   "id": "4ae9d99e",
   "metadata": {},
   "outputs": [],
   "source": [
    "import pyspark\n",
    "from pyspark import SparkContext\n",
    "from pyspark.sql import SparkSession\n",
    "from pyspark.sql import Row\n",
    "from pyspark.ml.feature import StringIndexer\n",
    "from pyspark.ml.linalg import Vectors\n",
    "from pyspark.ml.classification import DecisionTreeClassifier\n",
    "from pyspark.ml.evaluation import MulticlassClassificationEvaluator"
   ]
  },
  {
   "cell_type": "code",
   "execution_count": 3,
   "id": "09ebd8b3",
   "metadata": {},
   "outputs": [],
   "source": [
    "sc = SparkContext(appName = 'Lab5_pt2')"
   ]
  },
  {
   "cell_type": "code",
   "execution_count": 4,
   "id": "e67642d8",
   "metadata": {},
   "outputs": [],
   "source": [
    "ss = SparkSession.builder.master('local').getOrCreate()"
   ]
  },
  {
   "cell_type": "code",
   "execution_count": 8,
   "id": "f270e568",
   "metadata": {},
   "outputs": [],
   "source": [
    "dados_time_futebol = sc.textFile('dataset2.csv')"
   ]
  },
  {
   "cell_type": "code",
   "execution_count": 9,
   "id": "e11ba5d5",
   "metadata": {},
   "outputs": [
    {
     "data": {
      "text/plain": [
       "['media_faltas_sofridas,media_faltas_recebidas,media_cartoes_recebidos,media_chutes_a_gol,resultado',\n",
       " '4.8,3,1.4,0.3,vitoria',\n",
       " '5.1,3.8,1.6,0.2,vitoria',\n",
       " '4.6,3.2,1.4,0.2,vitoria',\n",
       " '5.3,3.7,1.5,0.2,vitoria']"
      ]
     },
     "execution_count": 9,
     "metadata": {},
     "output_type": "execute_result"
    }
   ],
   "source": [
    "dados_time_futebol.take(5)"
   ]
  },
  {
   "cell_type": "code",
   "execution_count": 15,
   "id": "3fac198c",
   "metadata": {},
   "outputs": [],
   "source": [
    "dados_time_futebol_2 = dados_time.filter(lambda x:'media_faltas_sofridas' not in x)"
   ]
  },
  {
   "cell_type": "markdown",
   "id": "a4957e9b",
   "metadata": {},
   "source": [
    "### Limpeza dos dados "
   ]
  },
  {
   "cell_type": "code",
   "execution_count": 16,
   "id": "1d87c0e7",
   "metadata": {},
   "outputs": [],
   "source": [
    "dados_time_futebol_3 = dados_time_futebol_2.map(lambda x:x.split(','))"
   ]
  },
  {
   "cell_type": "code",
   "execution_count": 17,
   "id": "1fb3f857",
   "metadata": {},
   "outputs": [],
   "source": [
    "#Mapeando as colunas \n",
    "dados_time_futebol_4 = dados_time_futebol_3.map(lambda p: Row(media_faltas_sofridas = float(p[0]), \n",
    "                                                              media_faltas_recebidas = float(p[1]), \n",
    "                                                              media_cartoes_recebidos = float(p[2]), \n",
    "                                                              media_chutes_a_gol = float(p[3]), \n",
    "                                                              resultado = p[4] ))"
   ]
  },
  {
   "cell_type": "code",
   "execution_count": 18,
   "id": "85cdb288",
   "metadata": {},
   "outputs": [
    {
     "data": {
      "text/plain": [
       "DataFrame[media_faltas_sofridas: double, media_faltas_recebidas: double, media_cartoes_recebidos: double, media_chutes_a_gol: double, resultado: string]"
      ]
     },
     "execution_count": 18,
     "metadata": {},
     "output_type": "execute_result"
    }
   ],
   "source": [
    "df_time = ss.createDataFrame(dados_time_futebol_4)\n",
    "df_time.cache()"
   ]
  },
  {
   "cell_type": "code",
   "execution_count": 19,
   "id": "348be4cf",
   "metadata": {},
   "outputs": [
    {
     "data": {
      "text/plain": [
       "[Row(media_faltas_sofridas=4.8, media_faltas_recebidas=3.0, media_cartoes_recebidos=1.4, media_chutes_a_gol=0.3, resultado='vitoria'),\n",
       " Row(media_faltas_sofridas=5.1, media_faltas_recebidas=3.8, media_cartoes_recebidos=1.6, media_chutes_a_gol=0.2, resultado='vitoria'),\n",
       " Row(media_faltas_sofridas=4.6, media_faltas_recebidas=3.2, media_cartoes_recebidos=1.4, media_chutes_a_gol=0.2, resultado='vitoria'),\n",
       " Row(media_faltas_sofridas=5.3, media_faltas_recebidas=3.7, media_cartoes_recebidos=1.5, media_chutes_a_gol=0.2, resultado='vitoria'),\n",
       " Row(media_faltas_sofridas=5.1, media_faltas_recebidas=3.5, media_cartoes_recebidos=1.4, media_chutes_a_gol=0.2, resultado='vitoria')]"
      ]
     },
     "execution_count": 19,
     "metadata": {},
     "output_type": "execute_result"
    }
   ],
   "source": [
    "df_time.take(5)"
   ]
  },
  {
   "cell_type": "code",
   "execution_count": 22,
   "id": "ed170310",
   "metadata": {},
   "outputs": [],
   "source": [
    "#Criando um index numerico para a coluna de label target\n",
    "stringIndexer = StringIndexer(inputCol = 'resultado',outputCol = 'idx_resultado')"
   ]
  },
  {
   "cell_type": "code",
   "execution_count": 24,
   "id": "b0d512a3",
   "metadata": {},
   "outputs": [],
   "source": [
    "si_model = stringIndexer.fit(df_time)"
   ]
  },
  {
   "cell_type": "code",
   "execution_count": 26,
   "id": "31d2b201",
   "metadata": {},
   "outputs": [],
   "source": [
    "df_time_final = si_model.transform(df_time)"
   ]
  },
  {
   "cell_type": "code",
   "execution_count": 31,
   "id": "9d6f1d2d",
   "metadata": {},
   "outputs": [
    {
     "data": {
      "text/plain": [
       "[Row(resultado='derrota', idx_resultado=0.0),\n",
       " Row(resultado='vitoria', idx_resultado=2.0),\n",
       " Row(resultado='empate', idx_resultado=1.0)]"
      ]
     },
     "execution_count": 31,
     "metadata": {},
     "output_type": "execute_result"
    }
   ],
   "source": [
    "df_time_final.select('resultado','idx_resultado').distinct().collect()"
   ]
  },
  {
   "cell_type": "code",
   "execution_count": 32,
   "id": "2b207eed",
   "metadata": {},
   "outputs": [
    {
     "name": "stdout",
     "output_type": "stream",
     "text": [
      "+---------------------+----------------------+-----------------------+------------------+---------+-------------+\n",
      "|media_faltas_sofridas|media_faltas_recebidas|media_cartoes_recebidos|media_chutes_a_gol|resultado|idx_resultado|\n",
      "+---------------------+----------------------+-----------------------+------------------+---------+-------------+\n",
      "|                  4.8|                   3.0|                    1.4|               0.3|  vitoria|          2.0|\n",
      "|                  5.1|                   3.8|                    1.6|               0.2|  vitoria|          2.0|\n",
      "|                  4.6|                   3.2|                    1.4|               0.2|  vitoria|          2.0|\n",
      "|                  5.3|                   3.7|                    1.5|               0.2|  vitoria|          2.0|\n",
      "|                  5.1|                   3.5|                    1.4|               0.2|  vitoria|          2.0|\n",
      "|                  4.9|                   3.0|                    1.4|               0.2|  vitoria|          2.0|\n",
      "|                  4.7|                   3.2|                    1.3|               0.2|  vitoria|          2.0|\n",
      "|                  4.6|                   3.1|                    1.5|               0.2|  vitoria|          2.0|\n",
      "|                  5.0|                   3.6|                    1.4|               0.2|  vitoria|          2.0|\n",
      "|                  5.4|                   3.9|                    1.7|               0.4|  vitoria|          2.0|\n",
      "|                  4.6|                   3.4|                    1.4|               0.3|  vitoria|          2.0|\n",
      "|                  5.0|                   3.4|                    1.5|               0.2|  vitoria|          2.0|\n",
      "|                  4.4|                   2.9|                    1.4|               0.2|  vitoria|          2.0|\n",
      "|                  4.9|                   3.1|                    1.5|               0.1|  vitoria|          2.0|\n",
      "|                  5.4|                   3.7|                    1.5|               0.2|  vitoria|          2.0|\n",
      "|                  4.8|                   3.4|                    1.6|               0.2|  vitoria|          2.0|\n",
      "|                  4.8|                   3.0|                    1.4|               0.1|  vitoria|          2.0|\n",
      "|                  4.3|                   3.0|                    1.1|               0.1|  vitoria|          2.0|\n",
      "|                  5.8|                   4.0|                    1.2|               0.2|  vitoria|          2.0|\n",
      "|                  5.7|                   4.4|                    1.5|               0.4|  vitoria|          2.0|\n",
      "+---------------------+----------------------+-----------------------+------------------+---------+-------------+\n",
      "only showing top 20 rows\n",
      "\n"
     ]
    }
   ],
   "source": [
    "df_time_final.show()"
   ]
  },
  {
   "cell_type": "code",
   "execution_count": 33,
   "id": "068f78cd",
   "metadata": {},
   "outputs": [
    {
     "name": "stdout",
     "output_type": "stream",
     "text": [
      "Correlação entre  media_faltas_sofridas index_resultado:  -0.4600391565002369\n",
      "Correlação entre  media_faltas_recebidas index_resultado:  0.6183715308237437\n",
      "Correlação entre  media_cartoes_recebidos index_resultado:  -0.649241830764174\n",
      "Correlação entre  media_chutes_a_gol index_resultado:  -0.5803770334306265\n",
      "Correlação entre  idx_resultado index_resultado:  1.0\n"
     ]
    }
   ],
   "source": [
    "#Correlação entre variáveis \n",
    "for col in df_time_final.columns:\n",
    "    if not(isinstance(df_time_final.select(col).take(1)[0][0],str)):\n",
    "        print('Correlação entre ',col,'index_resultado: ',df_time_final.stat.corr('idx_resultado',col))"
   ]
  },
  {
   "cell_type": "code",
   "execution_count": 63,
   "id": "5dff3cfc",
   "metadata": {},
   "outputs": [],
   "source": [
    "#Escolhendo as features de maior correlação com a variável alvo\n",
    "def transformaRow (row):\n",
    "    obj = (row['resultado'],row['idx_resultado'],Vectors.dense([row['media_faltas_sofridas'],\n",
    "                                                            row['media_faltas_recebidas'],\n",
    "                                                              row['media_cartoes_recebidos'],\n",
    "                                                              row['media_chutes_a_gol']]))\n",
    "    return obj"
   ]
  },
  {
   "cell_type": "code",
   "execution_count": 65,
   "id": "d163c6ec",
   "metadata": {},
   "outputs": [],
   "source": [
    "df_time_final_rdd = df_time_final.rdd.map(transformaRow)"
   ]
  },
  {
   "cell_type": "code",
   "execution_count": 70,
   "id": "6b9eed8f",
   "metadata": {},
   "outputs": [
    {
     "data": {
      "text/plain": [
       "[('vitoria', 2.0, DenseVector([4.8, 3.0, 1.4, 0.3])),\n",
       " ('vitoria', 2.0, DenseVector([5.1, 3.8, 1.6, 0.2])),\n",
       " ('vitoria', 2.0, DenseVector([4.6, 3.2, 1.4, 0.2])),\n",
       " ('vitoria', 2.0, DenseVector([5.3, 3.7, 1.5, 0.2])),\n",
       " ('vitoria', 2.0, DenseVector([5.1, 3.5, 1.4, 0.2]))]"
      ]
     },
     "execution_count": 70,
     "metadata": {},
     "output_type": "execute_result"
    }
   ],
   "source": [
    "df_time_final_rdd.take(5)"
   ]
  },
  {
   "cell_type": "code",
   "execution_count": 91,
   "id": "6c255fe7",
   "metadata": {},
   "outputs": [],
   "source": [
    "#Spark para DataFrame\n",
    "df_final_spark = ss.createDataFrame(df_time_final_rdd,['resultado','label','feature'])"
   ]
  },
  {
   "cell_type": "code",
   "execution_count": 92,
   "id": "337afbb3",
   "metadata": {},
   "outputs": [
    {
     "name": "stdout",
     "output_type": "stream",
     "text": [
      "+---------+-----+-----------------+\n",
      "|resultado|label|          feature|\n",
      "+---------+-----+-----------------+\n",
      "|  vitoria|  2.0|[4.8,3.0,1.4,0.3]|\n",
      "|  vitoria|  2.0|[5.1,3.8,1.6,0.2]|\n",
      "|  vitoria|  2.0|[4.6,3.2,1.4,0.2]|\n",
      "|  vitoria|  2.0|[5.3,3.7,1.5,0.2]|\n",
      "|  vitoria|  2.0|[5.1,3.5,1.4,0.2]|\n",
      "|  vitoria|  2.0|[4.9,3.0,1.4,0.2]|\n",
      "|  vitoria|  2.0|[4.7,3.2,1.3,0.2]|\n",
      "|  vitoria|  2.0|[4.6,3.1,1.5,0.2]|\n",
      "|  vitoria|  2.0|[5.0,3.6,1.4,0.2]|\n",
      "|  vitoria|  2.0|[5.4,3.9,1.7,0.4]|\n",
      "+---------+-----+-----------------+\n",
      "only showing top 10 rows\n",
      "\n"
     ]
    }
   ],
   "source": [
    "df_final_spark.show(10)"
   ]
  },
  {
   "cell_type": "code",
   "execution_count": 75,
   "id": "b2f150af",
   "metadata": {},
   "outputs": [],
   "source": [
    "#Dados de treino e teste\n",
    "(dados_treino,dados_teste) = df_final_spark.randomSplit([0.8,0.2])"
   ]
  },
  {
   "cell_type": "markdown",
   "id": "d851cf04",
   "metadata": {},
   "source": [
    "### Machine Learning"
   ]
  },
  {
   "cell_type": "code",
   "execution_count": 93,
   "id": "350cc63f",
   "metadata": {},
   "outputs": [],
   "source": [
    "dClassifier = DecisionTreeClassifier(maxDepth = 3,labelCol = 'label',featuresCol = 'features')"
   ]
  },
  {
   "cell_type": "code",
   "execution_count": 95,
   "id": "5edf1a6d",
   "metadata": {},
   "outputs": [],
   "source": [
    "modelo = dClassifier.fit(dados_treino)"
   ]
  },
  {
   "cell_type": "code",
   "execution_count": 82,
   "id": "a7ce4753",
   "metadata": {},
   "outputs": [
    {
     "data": {
      "text/plain": [
       "5"
      ]
     },
     "execution_count": 82,
     "metadata": {},
     "output_type": "execute_result"
    }
   ],
   "source": [
    "#Hiperparamentro padrao\n",
    "modelo.numNodes"
   ]
  },
  {
   "cell_type": "code",
   "execution_count": 84,
   "id": "ea1ad47d",
   "metadata": {},
   "outputs": [
    {
     "data": {
      "text/plain": [
       "2"
      ]
     },
     "execution_count": 84,
     "metadata": {},
     "output_type": "execute_result"
    }
   ],
   "source": [
    "#Nosso hiperparametro\n",
    "modelo.depth"
   ]
  },
  {
   "cell_type": "code",
   "execution_count": 85,
   "id": "38ac010c",
   "metadata": {},
   "outputs": [],
   "source": [
    "previsoes = modelo.transform(dados_teste)"
   ]
  },
  {
   "cell_type": "code",
   "execution_count": 88,
   "id": "07eab5d1",
   "metadata": {},
   "outputs": [
    {
     "data": {
      "text/plain": [
       "[Row(resultado='derrota', label=0.0, prediction=0.0, probability=DenseVector([1.0, 0.0, 0.0])),\n",
       " Row(resultado='derrota', label=0.0, prediction=1.0, probability=DenseVector([0.0638, 0.9362, 0.0])),\n",
       " Row(resultado='derrota', label=0.0, prediction=0.0, probability=DenseVector([1.0, 0.0, 0.0])),\n",
       " Row(resultado='derrota', label=0.0, prediction=0.0, probability=DenseVector([1.0, 0.0, 0.0])),\n",
       " Row(resultado='vitoria', label=2.0, prediction=2.0, probability=DenseVector([0.0, 0.0, 1.0])),\n",
       " Row(resultado='vitoria', label=2.0, prediction=2.0, probability=DenseVector([0.0, 0.0, 1.0])),\n",
       " Row(resultado='vitoria', label=2.0, prediction=2.0, probability=DenseVector([0.0, 0.0, 1.0])),\n",
       " Row(resultado='vitoria', label=2.0, prediction=2.0, probability=DenseVector([0.0, 0.0, 1.0])),\n",
       " Row(resultado='vitoria', label=2.0, prediction=2.0, probability=DenseVector([0.0, 0.0, 1.0])),\n",
       " Row(resultado='vitoria', label=2.0, prediction=2.0, probability=DenseVector([0.0, 0.0, 1.0])),\n",
       " Row(resultado='vitoria', label=2.0, prediction=2.0, probability=DenseVector([0.0, 0.0, 1.0])),\n",
       " Row(resultado='vitoria', label=2.0, prediction=2.0, probability=DenseVector([0.0, 0.0, 1.0])),\n",
       " Row(resultado='vitoria', label=2.0, prediction=2.0, probability=DenseVector([0.0, 0.0, 1.0])),\n",
       " Row(resultado='vitoria', label=2.0, prediction=2.0, probability=DenseVector([0.0, 0.0, 1.0])),\n",
       " Row(resultado='vitoria', label=2.0, prediction=2.0, probability=DenseVector([0.0, 0.0, 1.0])),\n",
       " Row(resultado='vitoria', label=2.0, prediction=2.0, probability=DenseVector([0.0, 0.0, 1.0])),\n",
       " Row(resultado='vitoria', label=2.0, prediction=2.0, probability=DenseVector([0.0, 0.0, 1.0])),\n",
       " Row(resultado='vitoria', label=2.0, prediction=2.0, probability=DenseVector([0.0, 0.0, 1.0])),\n",
       " Row(resultado='derrota', label=0.0, prediction=1.0, probability=DenseVector([0.0638, 0.9362, 0.0])),\n",
       " Row(resultado='derrota', label=0.0, prediction=0.0, probability=DenseVector([1.0, 0.0, 0.0])),\n",
       " Row(resultado='derrota', label=0.0, prediction=1.0, probability=DenseVector([0.0638, 0.9362, 0.0])),\n",
       " Row(resultado='empate', label=1.0, prediction=0.0, probability=DenseVector([1.0, 0.0, 0.0])),\n",
       " Row(resultado='empate', label=1.0, prediction=1.0, probability=DenseVector([0.0638, 0.9362, 0.0])),\n",
       " Row(resultado='empate', label=1.0, prediction=1.0, probability=DenseVector([0.0638, 0.9362, 0.0])),\n",
       " Row(resultado='empate', label=1.0, prediction=1.0, probability=DenseVector([0.0638, 0.9362, 0.0])),\n",
       " Row(resultado='empate', label=1.0, prediction=1.0, probability=DenseVector([0.0638, 0.9362, 0.0])),\n",
       " Row(resultado='empate', label=1.0, prediction=1.0, probability=DenseVector([0.0638, 0.9362, 0.0]))]"
      ]
     },
     "execution_count": 88,
     "metadata": {},
     "output_type": "execute_result"
    }
   ],
   "source": [
    "previsoes.select(\"resultado\", \"label\", \"prediction\", \"probability\").collect()"
   ]
  },
  {
   "cell_type": "code",
   "execution_count": 89,
   "id": "6ce55202",
   "metadata": {},
   "outputs": [],
   "source": [
    "avaliador = MulticlassClassificationEvaluator(predictionCol = 'prediction',labelCol = 'label',metricName = 'accuracy')"
   ]
  },
  {
   "cell_type": "code",
   "execution_count": 90,
   "id": "44734918",
   "metadata": {},
   "outputs": [
    {
     "data": {
      "text/plain": [
       "0.8518518518518519"
      ]
     },
     "execution_count": 90,
     "metadata": {},
     "output_type": "execute_result"
    }
   ],
   "source": [
    "avaliador.evaluate(previsoes)"
   ]
  }
 ],
 "metadata": {
  "kernelspec": {
   "display_name": "Python 3 (ipykernel)",
   "language": "python",
   "name": "python3"
  },
  "language_info": {
   "codemirror_mode": {
    "name": "ipython",
    "version": 3
   },
   "file_extension": ".py",
   "mimetype": "text/x-python",
   "name": "python",
   "nbconvert_exporter": "python",
   "pygments_lexer": "ipython3",
   "version": "3.9.13"
  }
 },
 "nbformat": 4,
 "nbformat_minor": 5
}
