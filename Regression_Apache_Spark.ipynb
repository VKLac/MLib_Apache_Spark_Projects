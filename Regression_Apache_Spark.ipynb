{
 "cells": [
  {
   "cell_type": "code",
   "execution_count": 1,
   "id": "362f7c3e",
   "metadata": {},
   "outputs": [],
   "source": [
    "import findspark\n",
    "findspark.init()"
   ]
  },
  {
   "cell_type": "code",
   "execution_count": 2,
   "id": "eb7b4539",
   "metadata": {},
   "outputs": [],
   "source": [
    "import numpy as np\n",
    "import pyspark\n",
    "from pyspark import SparkContext\n",
    "from pyspark.sql import SparkSession\n",
    "from pyspark.sql import Row\n",
    "from pyspark.ml.linalg import Vectors\n",
    "from pyspark.ml.regression import LinearRegression\n",
    "from pyspark.ml.evaluation import RegressionEvaluator"
   ]
  },
  {
   "cell_type": "code",
   "execution_count": 3,
   "id": "19519f27",
   "metadata": {},
   "outputs": [],
   "source": [
    "sc = SparkContext(appName = 'Lab5')"
   ]
  },
  {
   "cell_type": "code",
   "execution_count": 4,
   "id": "f4c15dd2",
   "metadata": {},
   "outputs": [],
   "source": [
    "sc.setLogLevel('ERROR')"
   ]
  },
  {
   "cell_type": "code",
   "execution_count": 5,
   "id": "d4c0643a",
   "metadata": {},
   "outputs": [],
   "source": [
    "#SparkSession\n",
    "ss = SparkSession.builder.master(\"local\").getOrCreate()"
   ]
  },
  {
   "cell_type": "code",
   "execution_count": 6,
   "id": "295a219f",
   "metadata": {},
   "outputs": [],
   "source": [
    "#Carregar os dados gerando um RDD\n",
    "dados = sc.textFile('dataset1.csv')"
   ]
  },
  {
   "cell_type": "code",
   "execution_count": 7,
   "id": "b1214a7e",
   "metadata": {},
   "outputs": [
    {
     "data": {
      "text/plain": [
       "pyspark.rdd.RDD"
      ]
     },
     "execution_count": 7,
     "metadata": {},
     "output_type": "execute_result"
    }
   ],
   "source": [
    "type(dados)"
   ]
  },
  {
   "cell_type": "code",
   "execution_count": 8,
   "id": "025ff9c1",
   "metadata": {},
   "outputs": [
    {
     "data": {
      "text/plain": [
       "dataset1.csv MapPartitionsRDD[1] at textFile at NativeMethodAccessorImpl.java:0"
      ]
     },
     "execution_count": 8,
     "metadata": {},
     "output_type": "execute_result"
    }
   ],
   "source": [
    "#Cache otimiza a performance\n",
    "dados.cache()"
   ]
  },
  {
   "cell_type": "code",
   "execution_count": 9,
   "id": "749c1e85",
   "metadata": {},
   "outputs": [
    {
     "data": {
      "text/plain": [
       "399"
      ]
     },
     "execution_count": 9,
     "metadata": {},
     "output_type": "execute_result"
    }
   ],
   "source": [
    "dados.count()"
   ]
  },
  {
   "cell_type": "code",
   "execution_count": 10,
   "id": "c9545e99",
   "metadata": {},
   "outputs": [
    {
     "data": {
      "text/plain": [
       "['consumo,numero_cilindros,capacidade,horsepower,peso,aceleracao,ano,nome',\n",
       " '30,4,79,70,2074,19.5,71,peugeot 304',\n",
       " '30,4,88,76,2065,14.5,71,fiat 124b',\n",
       " '31,4,71,65,1773,19,71,toyota corolla 1200',\n",
       " '35,4,72,69,1613,18,71,datsun 1200']"
      ]
     },
     "execution_count": 10,
     "metadata": {},
     "output_type": "execute_result"
    }
   ],
   "source": [
    "dados.take(5)"
   ]
  },
  {
   "cell_type": "code",
   "execution_count": 11,
   "id": "b707e3eb",
   "metadata": {},
   "outputs": [
    {
     "data": {
      "text/plain": [
       "398"
      ]
     },
     "execution_count": 11,
     "metadata": {},
     "output_type": "execute_result"
    }
   ],
   "source": [
    "#Removendo a primeira linha (cabeçalho)\n",
    "dados2 = dados.filter(lambda x:\"peso\" not in x)\n",
    "dados2.count()"
   ]
  },
  {
   "cell_type": "code",
   "execution_count": 12,
   "id": "e5792bc0",
   "metadata": {},
   "outputs": [
    {
     "data": {
      "text/plain": [
       "['30,4,79,70,2074,19.5,71,peugeot 304',\n",
       " '30,4,88,76,2065,14.5,71,fiat 124b',\n",
       " '31,4,71,65,1773,19,71,toyota corolla 1200',\n",
       " '35,4,72,69,1613,18,71,datsun 1200',\n",
       " '27,4,97,60,1834,19,71,volkswagen model 111']"
      ]
     },
     "execution_count": 12,
     "metadata": {},
     "output_type": "execute_result"
    }
   ],
   "source": [
    "dados2.take(5)"
   ]
  },
  {
   "cell_type": "markdown",
   "id": "2221f8f4",
   "metadata": {},
   "source": [
    "#### Para processamento, RDDs são bons, mas são ruins para exploração de dados. Portanto, iremos converter o RDD para o Spark Dataframe e depois para o Pandas Dataframe"
   ]
  },
  {
   "cell_type": "code",
   "execution_count": 13,
   "id": "84550a0b",
   "metadata": {},
   "outputs": [],
   "source": [
    "spark_df = dados2.map(lambda x:str(x)).map(lambda y:y.split(\",\")).toDF()"
   ]
  },
  {
   "cell_type": "code",
   "execution_count": 14,
   "id": "a52238d9",
   "metadata": {},
   "outputs": [
    {
     "name": "stdout",
     "output_type": "stream",
     "text": [
      "+---+---+----+---+----+----+---+--------------------+\n",
      "| _1| _2|  _3| _4|  _5|  _6| _7|                  _8|\n",
      "+---+---+----+---+----+----+---+--------------------+\n",
      "| 30|  4|  79| 70|2074|19.5| 71|         peugeot 304|\n",
      "| 30|  4|  88| 76|2065|14.5| 71|           fiat 124b|\n",
      "| 31|  4|  71| 65|1773|  19| 71| toyota corolla 1200|\n",
      "| 35|  4|  72| 69|1613|  18| 71|         datsun 1200|\n",
      "| 27|  4|  97| 60|1834|  19| 71|volkswagen model 111|\n",
      "| 26|  4|  91| 70|1955|20.5| 71|    plymouth cricket|\n",
      "| 24|  4| 113| 95|2278|15.5| 72|toyota corona har...|\n",
      "| 25|  4|97.5| 80|2126|  17| 72|  dodge colt hardtop|\n",
      "| 23|  4|  97| 54|2254|23.5| 72|   volkswagen type 3|\n",
      "| 20|  4| 140| 90|2408|19.5| 72|      chevrolet vega|\n",
      "| 21|  4| 122| 86|2226|16.5| 72| ford pinto runabout|\n",
      "| 13|  8| 350|165|4274|  12| 72|    chevrolet impala|\n",
      "| 14|  8| 400|175|4385|  12| 72|    pontiac catalina|\n",
      "| 15|  8| 318|150|4135|13.5| 72|   plymouth fury iii|\n",
      "| 14|  8| 351|153|4129|  13| 72|    ford galaxie 500|\n",
      "| 17|  8| 304|150|3672|11.5| 72|  amc ambassador sst|\n",
      "| 18|  8| 307|130|3504|  12| 70|chevrolet chevell...|\n",
      "| 15|  8| 350|165|3693|11.5| 70|   buick skylark 320|\n",
      "| 18|  8| 318|150|3436|  11| 70|  plymouth satellite|\n",
      "| 16|  8| 304|150|3433|  12| 70|       amc rebel sst|\n",
      "+---+---+----+---+----+----+---+--------------------+\n",
      "only showing top 20 rows\n",
      "\n"
     ]
    }
   ],
   "source": [
    "spark_df.show()"
   ]
  },
  {
   "cell_type": "code",
   "execution_count": 15,
   "id": "278052ed",
   "metadata": {},
   "outputs": [],
   "source": [
    "pandas_df = spark_df.toPandas()"
   ]
  },
  {
   "cell_type": "code",
   "execution_count": 16,
   "id": "49d65bd2",
   "metadata": {},
   "outputs": [
    {
     "data": {
      "text/html": [
       "<div>\n",
       "<style scoped>\n",
       "    .dataframe tbody tr th:only-of-type {\n",
       "        vertical-align: middle;\n",
       "    }\n",
       "\n",
       "    .dataframe tbody tr th {\n",
       "        vertical-align: top;\n",
       "    }\n",
       "\n",
       "    .dataframe thead th {\n",
       "        text-align: right;\n",
       "    }\n",
       "</style>\n",
       "<table border=\"1\" class=\"dataframe\">\n",
       "  <thead>\n",
       "    <tr style=\"text-align: right;\">\n",
       "      <th></th>\n",
       "      <th>_1</th>\n",
       "      <th>_2</th>\n",
       "      <th>_3</th>\n",
       "      <th>_4</th>\n",
       "      <th>_5</th>\n",
       "      <th>_6</th>\n",
       "      <th>_7</th>\n",
       "      <th>_8</th>\n",
       "    </tr>\n",
       "  </thead>\n",
       "  <tbody>\n",
       "    <tr>\n",
       "      <th>0</th>\n",
       "      <td>30</td>\n",
       "      <td>4</td>\n",
       "      <td>79</td>\n",
       "      <td>70</td>\n",
       "      <td>2074</td>\n",
       "      <td>19.5</td>\n",
       "      <td>71</td>\n",
       "      <td>peugeot 304</td>\n",
       "    </tr>\n",
       "    <tr>\n",
       "      <th>1</th>\n",
       "      <td>30</td>\n",
       "      <td>4</td>\n",
       "      <td>88</td>\n",
       "      <td>76</td>\n",
       "      <td>2065</td>\n",
       "      <td>14.5</td>\n",
       "      <td>71</td>\n",
       "      <td>fiat 124b</td>\n",
       "    </tr>\n",
       "    <tr>\n",
       "      <th>2</th>\n",
       "      <td>31</td>\n",
       "      <td>4</td>\n",
       "      <td>71</td>\n",
       "      <td>65</td>\n",
       "      <td>1773</td>\n",
       "      <td>19</td>\n",
       "      <td>71</td>\n",
       "      <td>toyota corolla 1200</td>\n",
       "    </tr>\n",
       "    <tr>\n",
       "      <th>3</th>\n",
       "      <td>35</td>\n",
       "      <td>4</td>\n",
       "      <td>72</td>\n",
       "      <td>69</td>\n",
       "      <td>1613</td>\n",
       "      <td>18</td>\n",
       "      <td>71</td>\n",
       "      <td>datsun 1200</td>\n",
       "    </tr>\n",
       "    <tr>\n",
       "      <th>4</th>\n",
       "      <td>27</td>\n",
       "      <td>4</td>\n",
       "      <td>97</td>\n",
       "      <td>60</td>\n",
       "      <td>1834</td>\n",
       "      <td>19</td>\n",
       "      <td>71</td>\n",
       "      <td>volkswagen model 111</td>\n",
       "    </tr>\n",
       "    <tr>\n",
       "      <th>...</th>\n",
       "      <td>...</td>\n",
       "      <td>...</td>\n",
       "      <td>...</td>\n",
       "      <td>...</td>\n",
       "      <td>...</td>\n",
       "      <td>...</td>\n",
       "      <td>...</td>\n",
       "      <td>...</td>\n",
       "    </tr>\n",
       "    <tr>\n",
       "      <th>393</th>\n",
       "      <td>27</td>\n",
       "      <td>4</td>\n",
       "      <td>140</td>\n",
       "      <td>86</td>\n",
       "      <td>2790</td>\n",
       "      <td>15.6</td>\n",
       "      <td>82</td>\n",
       "      <td>ford mustang gl</td>\n",
       "    </tr>\n",
       "    <tr>\n",
       "      <th>394</th>\n",
       "      <td>44</td>\n",
       "      <td>4</td>\n",
       "      <td>97</td>\n",
       "      <td>52</td>\n",
       "      <td>2130</td>\n",
       "      <td>24.6</td>\n",
       "      <td>82</td>\n",
       "      <td>vw pickup</td>\n",
       "    </tr>\n",
       "    <tr>\n",
       "      <th>395</th>\n",
       "      <td>32</td>\n",
       "      <td>4</td>\n",
       "      <td>135</td>\n",
       "      <td>84</td>\n",
       "      <td>2295</td>\n",
       "      <td>11.6</td>\n",
       "      <td>82</td>\n",
       "      <td>dodge rampage</td>\n",
       "    </tr>\n",
       "    <tr>\n",
       "      <th>396</th>\n",
       "      <td>28</td>\n",
       "      <td>4</td>\n",
       "      <td>120</td>\n",
       "      <td>79</td>\n",
       "      <td>2625</td>\n",
       "      <td>18.6</td>\n",
       "      <td>82</td>\n",
       "      <td>ford ranger</td>\n",
       "    </tr>\n",
       "    <tr>\n",
       "      <th>397</th>\n",
       "      <td>31</td>\n",
       "      <td>4</td>\n",
       "      <td>119</td>\n",
       "      <td>82</td>\n",
       "      <td>2720</td>\n",
       "      <td>19.4</td>\n",
       "      <td>82</td>\n",
       "      <td>chevy s-10</td>\n",
       "    </tr>\n",
       "  </tbody>\n",
       "</table>\n",
       "<p>398 rows × 8 columns</p>\n",
       "</div>"
      ],
      "text/plain": [
       "     _1 _2   _3  _4    _5    _6  _7                    _8\n",
       "0    30  4   79  70  2074  19.5  71           peugeot 304\n",
       "1    30  4   88  76  2065  14.5  71             fiat 124b\n",
       "2    31  4   71  65  1773    19  71   toyota corolla 1200\n",
       "3    35  4   72  69  1613    18  71           datsun 1200\n",
       "4    27  4   97  60  1834    19  71  volkswagen model 111\n",
       "..   .. ..  ...  ..   ...   ...  ..                   ...\n",
       "393  27  4  140  86  2790  15.6  82       ford mustang gl\n",
       "394  44  4   97  52  2130  24.6  82             vw pickup\n",
       "395  32  4  135  84  2295  11.6  82         dodge rampage\n",
       "396  28  4  120  79  2625  18.6  82           ford ranger\n",
       "397  31  4  119  82  2720  19.4  82            chevy s-10\n",
       "\n",
       "[398 rows x 8 columns]"
      ]
     },
     "execution_count": 16,
     "metadata": {},
     "output_type": "execute_result"
    }
   ],
   "source": [
    "pandas_df"
   ]
  },
  {
   "cell_type": "code",
   "execution_count": 17,
   "id": "0a086b57",
   "metadata": {},
   "outputs": [
    {
     "data": {
      "text/plain": [
       "False"
      ]
     },
     "execution_count": 17,
     "metadata": {},
     "output_type": "execute_result"
    }
   ],
   "source": [
    "pandas_df.isnull().values.any()"
   ]
  },
  {
   "cell_type": "code",
   "execution_count": 18,
   "id": "a99fd373",
   "metadata": {},
   "outputs": [
    {
     "data": {
      "text/plain": [
       "6"
      ]
     },
     "execution_count": 18,
     "metadata": {},
     "output_type": "execute_result"
    }
   ],
   "source": [
    "np.sum(pandas_df.apply(lambda x:x.str.contains('\\?')).values)"
   ]
  },
  {
   "cell_type": "code",
   "execution_count": 19,
   "id": "516b5750",
   "metadata": {},
   "outputs": [
    {
     "data": {
      "text/plain": [
       "(array([ 48, 126, 330, 336, 354, 374], dtype=int64),\n",
       " array([3, 3, 3, 3, 3, 3], dtype=int64))"
      ]
     },
     "execution_count": 19,
     "metadata": {},
     "output_type": "execute_result"
    }
   ],
   "source": [
    "np.where(pandas_df.apply(lambda x:x.str.contains('\\?').values))"
   ]
  },
  {
   "cell_type": "code",
   "execution_count": 20,
   "id": "41c5297b",
   "metadata": {},
   "outputs": [
    {
     "data": {
      "text/plain": [
       "_1            25\n",
       "_2             4\n",
       "_3            98\n",
       "_4             ?\n",
       "_5          2046\n",
       "_6            19\n",
       "_7            71\n",
       "_8    ford pinto\n",
       "Name: 48, dtype: object"
      ]
     },
     "execution_count": 20,
     "metadata": {},
     "output_type": "execute_result"
    }
   ],
   "source": [
    "pandas_df.iloc[48]"
   ]
  },
  {
   "cell_type": "code",
   "execution_count": 21,
   "id": "d5a8c9a2",
   "metadata": {},
   "outputs": [],
   "source": [
    "media = pandas_df[~pandas_df[\"_4\"].str.contains(\"\\?\")][\"_4\"].astype(int).mean()"
   ]
  },
  {
   "cell_type": "code",
   "execution_count": 22,
   "id": "30c1ba9b",
   "metadata": {},
   "outputs": [],
   "source": [
    "#Valor padrão do HP (média para substituir valores ausentes)\n",
    "mediaHP = sc.broadcast(media)"
   ]
  },
  {
   "cell_type": "code",
   "execution_count": 23,
   "id": "5b823ce1",
   "metadata": {},
   "outputs": [],
   "source": [
    "#Limpeza dos dados - função\n",
    "def limpeza(string):\n",
    "    \n",
    "    global mediaHP\n",
    "    \n",
    "    #Lista de atributos\n",
    "    str_final = string.split(\",\")\n",
    "    \n",
    "    possivel_nulo = str_final[3]\n",
    "    \n",
    "    #Substitui o caractere pela média\n",
    "    if possivel_nulo == \"?\":\n",
    "        possivel_nulo = mediaHP.value\n",
    "    \n",
    "    #Criando as linhas do data_frame\n",
    "    linhas = Row(consumo = float(str_final[0]), \n",
    "                 numero_cilindros = float(str_final[1]), \n",
    "                 capacidade = float(str_final[2]), \n",
    "                 horsepower = float(possivel_nulo), \n",
    "                 peso = float(str_final[4]), \n",
    "                 aceleracao = float(str_final[5]), \n",
    "                 ano = float(str_final[6]), \n",
    "                 nome = str_final[7])\n",
    "    return linhas\n",
    "    "
   ]
  },
  {
   "cell_type": "code",
   "execution_count": 24,
   "id": "2547f1a9",
   "metadata": {},
   "outputs": [
    {
     "data": {
      "text/plain": [
       "[Row(consumo=30.0, numero_cilindros=4.0, capacidade=79.0, horsepower=70.0, peso=2074.0, aceleracao=19.5, ano=71.0, nome='peugeot 304'),\n",
       " Row(consumo=30.0, numero_cilindros=4.0, capacidade=88.0, horsepower=76.0, peso=2065.0, aceleracao=14.5, ano=71.0, nome='fiat 124b'),\n",
       " Row(consumo=31.0, numero_cilindros=4.0, capacidade=71.0, horsepower=65.0, peso=1773.0, aceleracao=19.0, ano=71.0, nome='toyota corolla 1200'),\n",
       " Row(consumo=35.0, numero_cilindros=4.0, capacidade=72.0, horsepower=69.0, peso=1613.0, aceleracao=18.0, ano=71.0, nome='datsun 1200'),\n",
       " Row(consumo=27.0, numero_cilindros=4.0, capacidade=97.0, horsepower=60.0, peso=1834.0, aceleracao=19.0, ano=71.0, nome='volkswagen model 111')]"
      ]
     },
     "execution_count": 24,
     "metadata": {},
     "output_type": "execute_result"
    }
   ],
   "source": [
    "dados3 = dados2.map(limpeza)\n",
    "dados3.cache()\n",
    "dados3.take(5)"
   ]
  },
  {
   "cell_type": "code",
   "execution_count": 25,
   "id": "0c7b655c",
   "metadata": {},
   "outputs": [],
   "source": [
    "df_carros = dados3.toDF()"
   ]
  },
  {
   "cell_type": "code",
   "execution_count": 26,
   "id": "0638d9ec",
   "metadata": {},
   "outputs": [
    {
     "name": "stdout",
     "output_type": "stream",
     "text": [
      "+-------+----------------+----------+----------+------+----------+----+--------------------+\n",
      "|consumo|numero_cilindros|capacidade|horsepower|  peso|aceleracao| ano|                nome|\n",
      "+-------+----------------+----------+----------+------+----------+----+--------------------+\n",
      "|   30.0|             4.0|      79.0|      70.0|2074.0|      19.5|71.0|         peugeot 304|\n",
      "|   30.0|             4.0|      88.0|      76.0|2065.0|      14.5|71.0|           fiat 124b|\n",
      "|   31.0|             4.0|      71.0|      65.0|1773.0|      19.0|71.0| toyota corolla 1200|\n",
      "|   35.0|             4.0|      72.0|      69.0|1613.0|      18.0|71.0|         datsun 1200|\n",
      "|   27.0|             4.0|      97.0|      60.0|1834.0|      19.0|71.0|volkswagen model 111|\n",
      "|   26.0|             4.0|      91.0|      70.0|1955.0|      20.5|71.0|    plymouth cricket|\n",
      "|   24.0|             4.0|     113.0|      95.0|2278.0|      15.5|72.0|toyota corona har...|\n",
      "|   25.0|             4.0|      97.5|      80.0|2126.0|      17.0|72.0|  dodge colt hardtop|\n",
      "|   23.0|             4.0|      97.0|      54.0|2254.0|      23.5|72.0|   volkswagen type 3|\n",
      "|   20.0|             4.0|     140.0|      90.0|2408.0|      19.5|72.0|      chevrolet vega|\n",
      "|   21.0|             4.0|     122.0|      86.0|2226.0|      16.5|72.0| ford pinto runabout|\n",
      "|   13.0|             8.0|     350.0|     165.0|4274.0|      12.0|72.0|    chevrolet impala|\n",
      "|   14.0|             8.0|     400.0|     175.0|4385.0|      12.0|72.0|    pontiac catalina|\n",
      "|   15.0|             8.0|     318.0|     150.0|4135.0|      13.5|72.0|   plymouth fury iii|\n",
      "|   14.0|             8.0|     351.0|     153.0|4129.0|      13.0|72.0|    ford galaxie 500|\n",
      "|   17.0|             8.0|     304.0|     150.0|3672.0|      11.5|72.0|  amc ambassador sst|\n",
      "|   18.0|             8.0|     307.0|     130.0|3504.0|      12.0|70.0|chevrolet chevell...|\n",
      "|   15.0|             8.0|     350.0|     165.0|3693.0|      11.5|70.0|   buick skylark 320|\n",
      "|   18.0|             8.0|     318.0|     150.0|3436.0|      11.0|70.0|  plymouth satellite|\n",
      "|   16.0|             8.0|     304.0|     150.0|3433.0|      12.0|70.0|       amc rebel sst|\n",
      "+-------+----------------+----------+----------+------+----------+----+--------------------+\n",
      "only showing top 20 rows\n",
      "\n"
     ]
    }
   ],
   "source": [
    "df_carros.show()"
   ]
  },
  {
   "cell_type": "code",
   "execution_count": 27,
   "id": "1aa5a8a7",
   "metadata": {},
   "outputs": [
    {
     "name": "stdout",
     "output_type": "stream",
     "text": [
      "Correlação entre variável target e:  consumo 1.0\n",
      "Correlação entre variável target e:  numero_cilindros -0.7753962854205548\n",
      "Correlação entre variável target e:  capacidade -0.8042028248058978\n",
      "Correlação entre variável target e:  horsepower -0.7714371350025528\n",
      "Correlação entre variável target e:  peso -0.8317409332443347\n",
      "Correlação entre variável target e:  aceleracao 0.4202889121016496\n",
      "Correlação entre variável target e:  ano 0.5792671330833099\n"
     ]
    }
   ],
   "source": [
    "#Correlação entre a variável target a as outras variáveis\n",
    "for coluna in df_carros.columns:\n",
    "    if not (isinstance(df_carros.select(coluna).take(1)[0][0],str)):\n",
    "        print('Correlação entre variável target e: ',coluna,df_carros.stat.corr('consumo',coluna))"
   ]
  },
  {
   "cell_type": "markdown",
   "id": "3e01564e",
   "metadata": {},
   "source": [
    "#### Pré processamento"
   ]
  },
  {
   "cell_type": "code",
   "execution_count": 28,
   "id": "58db4663",
   "metadata": {},
   "outputs": [],
   "source": [
    "#Removendo as colunas não relevantes ou com baixa correlação\n",
    "def transformar(row):\n",
    "    obj = (row['consumo'],Vectors.dense([row['peso'],row['capacidade'],row['numero_cilindros']]))\n",
    "    return obj"
   ]
  },
  {
   "cell_type": "code",
   "execution_count": 29,
   "id": "255c1dd2",
   "metadata": {},
   "outputs": [],
   "source": [
    "dados4 = dados3.map(transformar)"
   ]
  },
  {
   "cell_type": "code",
   "execution_count": 30,
   "id": "67cbcb02",
   "metadata": {},
   "outputs": [
    {
     "data": {
      "text/plain": [
       "[(30.0, DenseVector([2074.0, 79.0, 4.0])),\n",
       " (30.0, DenseVector([2065.0, 88.0, 4.0])),\n",
       " (31.0, DenseVector([1773.0, 71.0, 4.0])),\n",
       " (35.0, DenseVector([1613.0, 72.0, 4.0])),\n",
       " (27.0, DenseVector([1834.0, 97.0, 4.0]))]"
      ]
     },
     "execution_count": 30,
     "metadata": {},
     "output_type": "execute_result"
    }
   ],
   "source": [
    "dados4.take(5)"
   ]
  },
  {
   "cell_type": "code",
   "execution_count": 31,
   "id": "1cad9671",
   "metadata": {},
   "outputs": [],
   "source": [
    "df_carros = ss.createDataFrame(dados4,['label','features'])"
   ]
  },
  {
   "cell_type": "code",
   "execution_count": 32,
   "id": "9231b25e",
   "metadata": {},
   "outputs": [
    {
     "name": "stdout",
     "output_type": "stream",
     "text": [
      "+-----+------------------+\n",
      "|label|          features|\n",
      "+-----+------------------+\n",
      "| 30.0| [2074.0,79.0,4.0]|\n",
      "| 30.0| [2065.0,88.0,4.0]|\n",
      "| 31.0| [1773.0,71.0,4.0]|\n",
      "| 35.0| [1613.0,72.0,4.0]|\n",
      "| 27.0| [1834.0,97.0,4.0]|\n",
      "| 26.0| [1955.0,91.0,4.0]|\n",
      "| 24.0|[2278.0,113.0,4.0]|\n",
      "| 25.0| [2126.0,97.5,4.0]|\n",
      "| 23.0| [2254.0,97.0,4.0]|\n",
      "| 20.0|[2408.0,140.0,4.0]|\n",
      "| 21.0|[2226.0,122.0,4.0]|\n",
      "| 13.0|[4274.0,350.0,8.0]|\n",
      "| 14.0|[4385.0,400.0,8.0]|\n",
      "| 15.0|[4135.0,318.0,8.0]|\n",
      "| 14.0|[4129.0,351.0,8.0]|\n",
      "| 17.0|[3672.0,304.0,8.0]|\n",
      "| 18.0|[3504.0,307.0,8.0]|\n",
      "| 15.0|[3693.0,350.0,8.0]|\n",
      "| 18.0|[3436.0,318.0,8.0]|\n",
      "| 16.0|[3433.0,304.0,8.0]|\n",
      "+-----+------------------+\n",
      "only showing top 20 rows\n",
      "\n"
     ]
    }
   ],
   "source": [
    "df_carros.select('label','features').show()"
   ]
  },
  {
   "cell_type": "code",
   "execution_count": 33,
   "id": "bddaa39e",
   "metadata": {},
   "outputs": [],
   "source": [
    "#Divisão treino e teste\n",
    "(dados_treino,dados_teste) = df_carros.randomSplit([0.8,0.2])"
   ]
  },
  {
   "cell_type": "code",
   "execution_count": 34,
   "id": "6c3c78f3",
   "metadata": {},
   "outputs": [
    {
     "data": {
      "text/plain": [
       "321"
      ]
     },
     "execution_count": 34,
     "metadata": {},
     "output_type": "execute_result"
    }
   ],
   "source": [
    "dados_treino.count()"
   ]
  },
  {
   "cell_type": "code",
   "execution_count": 35,
   "id": "af68a64b",
   "metadata": {},
   "outputs": [
    {
     "data": {
      "text/plain": [
       "77"
      ]
     },
     "execution_count": 35,
     "metadata": {},
     "output_type": "execute_result"
    }
   ],
   "source": [
    "dados_teste.count()"
   ]
  },
  {
   "cell_type": "markdown",
   "id": "7a2c65ba",
   "metadata": {},
   "source": [
    "### Machine Learning"
   ]
  },
  {
   "cell_type": "code",
   "execution_count": 36,
   "id": "728affc5",
   "metadata": {},
   "outputs": [],
   "source": [
    "linearReg = LinearRegression()"
   ]
  },
  {
   "cell_type": "code",
   "execution_count": 37,
   "id": "3cca274a",
   "metadata": {},
   "outputs": [],
   "source": [
    "modelo = linearReg.fit(dados_treino)"
   ]
  },
  {
   "cell_type": "code",
   "execution_count": 39,
   "id": "50cb700e",
   "metadata": {},
   "outputs": [
    {
     "name": "stdout",
     "output_type": "stream",
     "text": [
      "Coeficiente: [-0.006002798811775153,-0.013596403160059682,-0.140564658529604]\n",
      "Intercepto: 44.845578965894575\n"
     ]
    }
   ],
   "source": [
    "#Coeficientes aprendidos pelo modelo\n",
    "print(\"Coeficiente: \" + str(modelo.coefficients))\n",
    "print(\"Intercepto: \" + str(modelo.intercept))"
   ]
  },
  {
   "cell_type": "code",
   "execution_count": 40,
   "id": "3911eef0",
   "metadata": {},
   "outputs": [],
   "source": [
    "#Previsão\n",
    "predictions = modelo.transform(dados_teste)"
   ]
  },
  {
   "cell_type": "code",
   "execution_count": 42,
   "id": "2549a983",
   "metadata": {},
   "outputs": [
    {
     "name": "stdout",
     "output_type": "stream",
     "text": [
      "+------------------+------------------+\n",
      "|          features|        prediction|\n",
      "+------------------+------------------+\n",
      "|[4906.0,400.0,8.0]|  8.83276946306497|\n",
      "|[4952.0,429.0,8.0]| 8.162345026081582|\n",
      "|[3821.0,360.0,8.0]|15.889662300243394|\n",
      "|[3988.0,350.0,8.0]|15.023158930277543|\n",
      "|[4464.0,400.0,8.0]|11.486006537869585|\n",
      "|[4699.0,350.0,8.0]|10.755168975105413|\n",
      "|[3609.0,340.0,8.0]| 17.43418371154092|\n",
      "|[4042.0,302.0,8.0]|15.351635146124547|\n",
      "|[4096.0,318.0,8.0]|14.809941559727736|\n",
      "|[4385.0,400.0,8.0]|11.960227643999822|\n",
      "|[3761.0,400.0,8.0]|15.705974102547515|\n",
      "|[3777.0,318.0,8.0]|16.724834380684012|\n",
      "|[3892.0,304.0,8.0]|  16.2248621615707|\n",
      "|[4341.0,429.0,8.0]|11.830055100076201|\n",
      "|[3278.0,250.0,6.0]|20.925915719703077|\n",
      "|[4668.0,400.0,8.0]| 10.26143558026746|\n",
      "|[3907.0,231.0,6.0]|17.408486927137638|\n",
      "|[4215.0,305.0,8.0]|14.272361742207266|\n",
      "|[2933.0,121.0,4.0]|25.031946634472416|\n",
      "|[2868.0,121.0,4.0]|25.422128557237798|\n",
      "+------------------+------------------+\n",
      "only showing top 20 rows\n",
      "\n"
     ]
    }
   ],
   "source": [
    "predictions.select('features','prediction').show()"
   ]
  },
  {
   "cell_type": "code",
   "execution_count": 43,
   "id": "ed77e23e",
   "metadata": {},
   "outputs": [],
   "source": [
    "#Coeficiente de determinação R2\n",
    "avaliador = RegressionEvaluator(predictionCol = 'prediction',labelCol = 'label',metricName = 'r2')"
   ]
  },
  {
   "cell_type": "code",
   "execution_count": 45,
   "id": "59f6d0c1",
   "metadata": {},
   "outputs": [
    {
     "data": {
      "text/plain": [
       "0.700207897081574"
      ]
     },
     "execution_count": 45,
     "metadata": {},
     "output_type": "execute_result"
    }
   ],
   "source": [
    "avaliador.evaluate(predictions)"
   ]
  }
 ],
 "metadata": {
  "kernelspec": {
   "display_name": "Python 3 (ipykernel)",
   "language": "python",
   "name": "python3"
  },
  "language_info": {
   "codemirror_mode": {
    "name": "ipython",
    "version": 3
   },
   "file_extension": ".py",
   "mimetype": "text/x-python",
   "name": "python",
   "nbconvert_exporter": "python",
   "pygments_lexer": "ipython3",
   "version": "3.9.13"
  }
 },
 "nbformat": 4,
 "nbformat_minor": 5
}
